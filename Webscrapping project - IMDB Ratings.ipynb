{
 "cells": [
  {
   "cell_type": "code",
   "execution_count": 60,
   "id": "3d26be9c",
   "metadata": {
    "scrolled": true
   },
   "outputs": [],
   "source": [
    "from bs4 import BeautifulSoup\n",
    "import requests\n",
    "import openpyxl\n",
    "\n",
    "excel_file = openpyxl.Workbook()\n",
    "#print(excel_file.sheetnames)\n",
    "excel_sheet = excel_file.active\n",
    "excel_sheet.title = 'The top 250 movies of all time'\n",
    "#print(excel_sheet.title)\n",
    "excel_sheet.append(['Movie Rank', 'Movie Title', 'Year of Release', 'IMDB Rating'])\n",
    "#print(excel_sheet)\n"
   ]
  },
  {
   "cell_type": "code",
   "execution_count": 59,
   "id": "b7ea0f09",
   "metadata": {},
   "outputs": [],
   "source": [
    "\n",
    "try:\n",
    "    \n",
    "    url = \"https://www.imdb.com/chart/top\"\n",
    "    table = requests.get(url)\n",
    "    table.raise_for_status()\n",
    "    result = BeautifulSoup(table.text, 'html.parser')\n",
    "\n",
    "    top_250_movies = result.find('tbody', class_ = 'lister-list').find_all('tr')\n",
    "    #print(len(top_250_movies))\n",
    "    \n",
    "    for each_movie in top_250_movies:\n",
    "        movie_name = each_movie.find('td', class_= 'titleColumn').a.text\n",
    "        movie_rank = each_movie.find('td', class_= 'titleColumn').get_text(strip = True).split('.')[0]\n",
    "        movie_year = each_movie.find('td', class_= 'titleColumn').span.text.strip('()')\n",
    "        movie_rating = each_movie.find('td', class_=\"ratingColumn imdbRating\").strong.text\n",
    "        #print(movie_rank, movie_name, movie_year, movie_rating)\n",
    "        excel_sheet.append([movie_rank, movie_name, movie_year, movie_rating])\n",
    "            \n",
    "except Exception as error_encountered:\n",
    "    print(error_encountered)\n",
    "\n",
    "excel_file.save('IMDB Movie Ratings.csv')"
   ]
  },
  {
   "cell_type": "code",
   "execution_count": null,
   "id": "c8edac2f",
   "metadata": {},
   "outputs": [],
   "source": []
  }
 ],
 "metadata": {
  "kernelspec": {
   "display_name": "Python 3 (ipykernel)",
   "language": "python",
   "name": "python3"
  },
  "language_info": {
   "codemirror_mode": {
    "name": "ipython",
    "version": 3
   },
   "file_extension": ".py",
   "mimetype": "text/x-python",
   "name": "python",
   "nbconvert_exporter": "python",
   "pygments_lexer": "ipython3",
   "version": "3.9.7"
  }
 },
 "nbformat": 4,
 "nbformat_minor": 5
}
